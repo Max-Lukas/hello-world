{
 "cells": [
  {
   "cell_type": "markdown",
   "id": "39b8bc24",
   "metadata": {},
   "source": [
    "# Prise en main de pyomo"
   ]
  },
  {
   "cell_type": "code",
   "execution_count": 17,
   "id": "662d36e9",
   "metadata": {},
   "outputs": [],
   "source": [
    "import numpy as np\n",
    "from scipy.optimize import minimize\n",
    "import pandas as pd\n",
    "from pyomo.environ import *\n",
    "\n",
    "#import pyomo.environ as pe     # pour construire modele\n",
    "#import pyomo.opt as po         # pour solver"
   ]
  },
  {
   "cell_type": "code",
   "execution_count": 4,
   "id": "c47851e4",
   "metadata": {},
   "outputs": [],
   "source": [
    "model = ConcreteModel() # creation du modèle"
   ]
  },
  {
   "cell_type": "markdown",
   "id": "bec026c5",
   "metadata": {},
   "source": [
    "### Déclaration des variables"
   ]
  },
  {
   "cell_type": "code",
   "execution_count": 7,
   "id": "5f088e86",
   "metadata": {},
   "outputs": [],
   "source": [
    "# Détaillant à la main\n",
    "model.x1 = Var(domain=NonNegativeReals)\n",
    "model.x2 = Var(domain=NonNegativeReals)"
   ]
  },
  {
   "cell_type": "code",
   "execution_count": 8,
   "id": "11ad2355",
   "metadata": {},
   "outputs": [],
   "source": [
    "# Autre manière plus compact (fonctionne pas pour le moment)\n",
    "#model.x = Var([1,2], domain=pe.NonNegativeReals)"
   ]
  },
  {
   "cell_type": "markdown",
   "id": "2bf396fa",
   "metadata": {},
   "source": [
    "### Déclaration de la fonction objectif"
   ]
  },
  {
   "cell_type": "code",
   "execution_count": 9,
   "id": "fa677c63",
   "metadata": {},
   "outputs": [],
   "source": [
    "# Version détaillée\n",
    "#obj_expr = 4 * model.x1 + 5 * model.x2  #expression\n",
    "#model.obj = Objective(sense=maximize, expr=obj_expr) # Par défaut minimisation donc imortant de spécifier maximisation"
   ]
  },
  {
   "cell_type": "code",
   "execution_count": 10,
   "id": "acf65d9f",
   "metadata": {},
   "outputs": [],
   "source": [
    "# Plus compact :\n",
    "model.obj = Objective(\n",
    "    expr = 4 * model.x1 + 5 * model.x2,\n",
    "    sense = maximize)"
   ]
  },
  {
   "cell_type": "markdown",
   "id": "fcea94a2",
   "metadata": {},
   "source": [
    "### Déclaration des contraintes"
   ]
  },
  {
   "cell_type": "code",
   "execution_count": 12,
   "id": "d8b0b9db",
   "metadata": {},
   "outputs": [],
   "source": [
    "model.Constraint1 = Constraint(expr = 2*model.x1 + 1*model.x2 <= 8)\n",
    "model.Constraint2 = Constraint(expr = 1*model.x1 + 2*model.x2 <= 7)\n",
    "model.Constraint3 = Constraint(expr = 1*model.x2 <= 3)"
   ]
  },
  {
   "cell_type": "code",
   "execution_count": 13,
   "id": "0758522b",
   "metadata": {},
   "outputs": [],
   "source": [
    "# Définissons le solver :\n",
    "solver = SolverFactory('glpk')"
   ]
  },
  {
   "cell_type": "code",
   "execution_count": 14,
   "id": "4d866b28",
   "metadata": {},
   "outputs": [
    {
     "name": "stdout",
     "output_type": "stream",
     "text": [
      "GLPSOL--GLPK LP/MIP Solver 5.0\n",
      "Parameter(s) specified in the command line:\n",
      " --write C:\\Users\\lh272438\\AppData\\Local\\Temp\\tmpkc46488h.glpk.raw --wglp\n",
      " C:\\Users\\lh272438\\AppData\\Local\\Temp\\tmpu4z2yps2.glpk.glp --cpxlp C:\\Users\\lh272438\\AppData\\Local\\Temp\\tmpewlva8qk.pyomo.lp\n",
      "Reading problem data from 'C:\\Users\\lh272438\\AppData\\Local\\Temp\\tmpewlva8qk.pyomo.lp'...\n",
      "4 rows, 3 columns, 6 non-zeros\n",
      "30 lines were read\n",
      "Writing problem data to 'C:\\Users\\lh272438\\AppData\\Local\\Temp\\tmpu4z2yps2.glpk.glp'...\n",
      "22 lines were written\n",
      "GLPK Simplex Optimizer 5.0\n",
      "4 rows, 3 columns, 6 non-zeros\n",
      "Preprocessing...\n",
      "2 rows, 2 columns, 4 non-zeros\n",
      "Scaling...\n",
      " A: min|aij| =  1.000e+00  max|aij| =  2.000e+00  ratio =  2.000e+00\n",
      "Problem data seem to be well scaled\n",
      "Constructing initial basis...\n",
      "Size of triangular part is 2\n",
      "*     0: obj =  -0.000000000e+00 inf =   0.000e+00 (2)\n",
      "*     3: obj =   2.200000000e+01 inf =   0.000e+00 (0)\n",
      "OPTIMAL LP SOLUTION FOUND\n",
      "Time used:   0.0 secs\n",
      "Memory used: 0.0 Mb (40412 bytes)\n",
      "Writing basic solution to 'C:\\Users\\lh272438\\AppData\\Local\\Temp\\tmpkc46488h.glpk.raw'...\n",
      "16 lines were written\n"
     ]
    }
   ],
   "source": [
    "result = solver.solve(model, tee=True) #TEE permet de voir détail de l'optimisation"
   ]
  },
  {
   "cell_type": "code",
   "execution_count": 15,
   "id": "d5f3f0cb",
   "metadata": {},
   "outputs": [
    {
     "name": "stdout",
     "output_type": "stream",
     "text": [
      "\n",
      "résultats :\n",
      "valeur x1 = 3.0\n",
      "valeur x2 = 2.0\n",
      "valeur fonction obj = 22.0\n"
     ]
    }
   ],
   "source": [
    "print('\\nrésultats :')\n",
    "print('valeur x1 = ' + str(value(model.x1)))\n",
    "print('valeur x2 = ' + str(value(model.x2)))\n",
    "print('valeur fonction obj = ' + str(value(model.obj)))"
   ]
  },
  {
   "cell_type": "code",
   "execution_count": 16,
   "id": "e9f267cd",
   "metadata": {},
   "outputs": [
    {
     "name": "stdout",
     "output_type": "stream",
     "text": [
      "Model unknown\n",
      "\n",
      "  Variables:\n",
      "    x1 : Size=1, Index=None\n",
      "        Key  : Lower : Value : Upper : Fixed : Stale : Domain\n",
      "        None :     0 :   3.0 :  None : False : False : NonNegativeReals\n",
      "    x2 : Size=1, Index=None\n",
      "        Key  : Lower : Value : Upper : Fixed : Stale : Domain\n",
      "        None :     0 :   2.0 :  None : False : False : NonNegativeReals\n",
      "\n",
      "  Objectives:\n",
      "    obj : Size=1, Index=None, Active=True\n",
      "        Key  : Active : Value\n",
      "        None :   True :  22.0\n",
      "\n",
      "  Constraints:\n",
      "    Constraint1 : Size=1\n",
      "        Key  : Lower : Body : Upper\n",
      "        None :  None :  8.0 :   8.0\n",
      "    Constraint2 : Size=1\n",
      "        Key  : Lower : Body : Upper\n",
      "        None :  None :  7.0 :   7.0\n",
      "    Constraint3 : Size=1\n",
      "        Key  : Lower : Body : Upper\n",
      "        None :  None :  2.0 :   3.0\n",
      "\n",
      "Problem: \n",
      "- Name: unknown\n",
      "  Lower bound: 22.0\n",
      "  Upper bound: 22.0\n",
      "  Number of objectives: 1\n",
      "  Number of constraints: 4\n",
      "  Number of variables: 3\n",
      "  Number of nonzeros: 6\n",
      "  Sense: maximize\n",
      "Solver: \n",
      "- Status: ok\n",
      "  Termination condition: optimal\n",
      "  Statistics: \n",
      "    Branch and bound: \n",
      "      Number of bounded subproblems: 0\n",
      "      Number of created subproblems: 0\n",
      "  Error rc: 0\n",
      "  Time: 0.07048392295837402\n",
      "Solution: \n",
      "- number of solutions: 0\n",
      "  number of solutions displayed: 0\n",
      "\n"
     ]
    }
   ],
   "source": [
    "model.display()\n",
    "print(result)"
   ]
  },
  {
   "cell_type": "code",
   "execution_count": null,
   "id": "2c5f5961",
   "metadata": {},
   "outputs": [],
   "source": []
  },
  {
   "cell_type": "code",
   "execution_count": null,
   "id": "4de8e18b",
   "metadata": {},
   "outputs": [],
   "source": []
  }
 ],
 "metadata": {
  "kernelspec": {
   "display_name": "Python 3 (ipykernel)",
   "language": "python",
   "name": "python3"
  },
  "language_info": {
   "codemirror_mode": {
    "name": "ipython",
    "version": 3
   },
   "file_extension": ".py",
   "mimetype": "text/x-python",
   "name": "python",
   "nbconvert_exporter": "python",
   "pygments_lexer": "ipython3",
   "version": "3.9.13"
  }
 },
 "nbformat": 4,
 "nbformat_minor": 5
}
